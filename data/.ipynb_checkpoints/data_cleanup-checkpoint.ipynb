{
 "cells": [
  {
   "cell_type": "code",
   "execution_count": 1,
   "id": "f56af547",
   "metadata": {},
   "outputs": [],
   "source": [
    "import numpy as np\n",
    "import matplotlib as mpl\n",
    "import matplotlib.pyplot as plt"
   ]
  },
  {
   "cell_type": "code",
   "execution_count": 2,
   "id": "fc296d0e",
   "metadata": {},
   "outputs": [],
   "source": [
    "manual_data = np.genfromtxt('manual_scan_data_2023-03-09.14_55_26.csv', delimiter=',', skip_header=1)\n",
    "manual_time = manual_data[:,0]/1e6 # convert from microseconds to seconds\n",
    "manual_optitrack_time = manual_data[:,1]\n",
    "manual_tool_position = manual_data[:,2:5]\n",
    "manual_housing_orientation = np.swapaxes(np.reshape(manual_data[:,5:14], (-1,3,3)), 1, 2)\n",
    "manual_sensed_forces = manual_data[:,14:17] # not in local sensor frame, need to rotate from adapter to sensor\n",
    "manual_sensed_moments = manual_data[:,17:20] # not in local sensor frame, need to rotate from adapter to sensor\n",
    "manual_sensed_forces_raw = manual_data[:,20:23]\n",
    "manual_sensed_moments_raw = manual_data[:,23:26]\n",
    "manual_num_data_points = np.size(manual_time)"
   ]
  },
  {
   "cell_type": "code",
   "execution_count": 3,
   "id": "0b0eb5b9",
   "metadata": {},
   "outputs": [],
   "source": [
    "# correction for raw sensed forces + moments to local sensor frame\n",
    "manual_sensed_forces_local_frame = manual_sensed_forces_raw.copy()\n",
    "manual_sensed_moments_local_frame = manual_sensed_moments_raw.copy()\n",
    "force_bias = np.array([-3.85127, 1.28588, -0.0535624, -0.0185233, 0.271245, 0.00968462])\n",
    "tool_mass = 0.591466\n",
    "tool_com = np.array([0.000991119, -0.0017257, 0.0894378])\n",
    "# NOTE: +Y sensor axis aligned with axis pointing out of butterfly probe's battery indicator\n",
    "# should be aligned with -Y sensor axis in future\n",
    "R_sensor_housing = np.array([\n",
    "    [1,  0, 0],\n",
    "    [0,  0, 1],\n",
    "    [0, -1, 0]\n",
    "])\n",
    "g_optitrack = np.array([0, -9.81, 0]) # optitrack +Y is up\n",
    "\n",
    "manual_sensed_forces_local_frame -= force_bias[0:3]\n",
    "manual_sensed_moments_local_frame -= force_bias[3:6]\n",
    "init_force = np.zeros(3)\n",
    "for i in range(manual_num_data_points):\n",
    "    p_tool_local_frame = tool_mass * (R_sensor_housing @ np.transpose(manual_housing_orientation[i])) @ g_optitrack\n",
    "    manual_sensed_forces_local_frame[i] += p_tool_local_frame\n",
    "    manual_sensed_moments_local_frame[i] += np.cross(tool_com, p_tool_local_frame)\n",
    "    if i == 0: init_force = manual_sensed_forces_local_frame[i]\n",
    "    manual_sensed_forces_local_frame[i] -= init_force\n",
    "    \n",
    "# flip x- and y-axes on sensed force and moment data\n",
    "manual_sensed_forces_local_frame[:,0] *= -1\n",
    "manual_sensed_forces_local_frame[:,1] *= -1\n",
    "manual_sensed_moments_local_frame[:,0] *= -1\n",
    "manual_sensed_moments_local_frame[:,1] *= -1    "
   ]
  }
 ],
 "metadata": {
  "kernelspec": {
   "display_name": "Python 3",
   "language": "python",
   "name": "python3"
  },
  "language_info": {
   "codemirror_mode": {
    "name": "ipython",
    "version": 3
   },
   "file_extension": ".py",
   "mimetype": "text/x-python",
   "name": "python",
   "nbconvert_exporter": "python",
   "pygments_lexer": "ipython3",
   "version": "3.10.6"
  }
 },
 "nbformat": 4,
 "nbformat_minor": 5
}
