{
 "cells": [
  {
   "cell_type": "code",
   "execution_count": 1,
   "id": "cdea856c",
   "metadata": {},
   "outputs": [
    {
     "data": {
      "text/plain": [
       "update! (generic function with 1 method)"
      ]
     },
     "execution_count": 1,
     "metadata": {},
     "output_type": "execute_result"
    }
   ],
   "source": [
    "using DataFrames\n",
    "using CSV\n",
    "using Dates\n",
    "using LinearAlgebra\n",
    "\n",
    "mutable struct GradientQLearning  \n",
    "    A # action space (assumes 1:nactions) \n",
    "    y # discount \n",
    "    Q # action value function \n",
    "    gradientQ #gradient of action value function\n",
    "    theta # action value function parameter\n",
    "    alpha # learning rate \n",
    "end \n",
    "\n",
    "beta(s, a) = [s[1], s[2], s[3], s[4], s[5], s[6], s[7], s[8], s[9], \n",
    "    s[1]^2, s[2]^2, s[3]^2, s[4]^2, s[5]^2, s[6]^2, s[7]^2, s[8]^2, s[9]^2, \n",
    "    a[1], a[2], a[3], a[4], a[5], a[6], \n",
    "    a[1]^2, a[2]^2, a[3]^2, a[4]^2, a[5]^2, a[6]^2, 1]\n",
    "\n",
    "Q(theta, s, a) = dot(theta, beta(s, a))\n",
    "    \n",
    "gradientQ(theta, s, a) = beta(s, a)\n",
    "\n",
    "scale_gradient(gradient, L2_max) = min(L2_max/norm(gradient), 1)*gradient\n",
    "\n",
    "function update!(model::GradientQLearning, s, a, r, s′) \n",
    "    A, y, Q, theta, alpha = model.A, model.y, model.Q, model.theta, model.alpha \n",
    "    u = maximum(Q(theta, s′, a′) for a′ in A)\n",
    "    delta = (r + y*u - Q(theta, s, a))*model.gradientQ(theta, s, a)\n",
    "    theta[:] += alpha * scale_gradient(delta, 1)\n",
    "    return model \n",
    "end"
   ]
  },
  {
   "cell_type": "code",
   "execution_count": 4,
   "id": "1d3babe3",
   "metadata": {},
   "outputs": [],
   "source": [
    "starting_learning_rate = 1/(1+1)\n",
    "discount = 0.95\n",
    "theta = [10000, 10000, 10000, 10000, 10000, 10000, 1, 1, 1, \n",
    "    100, 100, 100, 100, 100, 100, .1, .1, .1, \n",
    "    1000, 1000, 1000, 1000, 1000, 1000,\n",
    "    10, 10, 10, 10, 10, 10, 1]\n",
    "\n",
    "posDelta = 0.00005\n",
    "oriDelta = .0002\n",
    "\n",
    "stateComponents = 9\n",
    "actionComponents = 6\n",
    "forceComponents = 3\n",
    "\n",
    "A = collect(Iterators.product((0, posDelta, -posDelta),(0, posDelta, -posDelta), (0, posDelta, -posDelta),\n",
    "(0, oriDelta, -oriDelta), (0, oriDelta, -oriDelta), (0, oriDelta, -oriDelta)))\n",
    "\n",
    "starting_learning_rate = 1/(1+1)\n",
    "\n",
    "model = GradientQLearning(A, discount, Q, gradientQ, theta, starting_learning_rate)\n",
    "\n",
    "numOfTraj = 1\n",
    "total_iterations = 2\n",
    "\n",
    "t1 = now();\n",
    "for i in 1:numOfTraj\n",
    "    trajectory = string(\"output\", i, \".csv\")\n",
    "    data = CSV.read(trajectory, DataFrame)\n",
    "    for k in 1:total_iterations\n",
    "        model.alpha = 1/(k+1) # learning rate will decay as number of iterations k increases according to k/(k+1)\n",
    "        for row in eachrow(data)\n",
    "                s = row[1:stateComponents]\n",
    "                a = row[stateComponents + 1: stateComponents + actionComponents]\n",
    "                r = row[stateComponents + actionComponents + 1]\n",
    "                s′ = row[stateComponents + actionComponents + 2: end]\n",
    "                model = update!(model, s, a, r, s′)\n",
    "        end \n",
    "    end\n",
    "end\n",
    "t2 = now();"
   ]
  },
  {
   "cell_type": "code",
   "execution_count": 5,
   "id": "06bcb670",
   "metadata": {},
   "outputs": [
    {
     "data": {
      "text/plain": [
       "63662 milliseconds"
      ]
     },
     "execution_count": 5,
     "metadata": {},
     "output_type": "execute_result"
    }
   ],
   "source": [
    "t2 - t1"
   ]
  },
  {
   "cell_type": "code",
   "execution_count": null,
   "id": "8ecef9cf",
   "metadata": {},
   "outputs": [],
   "source": []
  }
 ],
 "metadata": {
  "kernelspec": {
   "display_name": "Julia 1.9.3",
   "language": "julia",
   "name": "julia-1.9"
  },
  "language_info": {
   "file_extension": ".jl",
   "mimetype": "application/julia",
   "name": "julia",
   "version": "1.9.3"
  }
 },
 "nbformat": 4,
 "nbformat_minor": 5
}
