{
 "cells": [
  {
   "cell_type": "code",
   "execution_count": 10,
   "id": "cdea856c",
   "metadata": {},
   "outputs": [],
   "source": [
    "using Flux, Flux.Data, Flux.Optimise\n",
    "using Statistics, Random\n",
    "using DataFrames\n",
    "using CSV\n",
    "using Dates\n",
    "using LinearAlgebra\n",
    "\n",
    "mutable struct GradientQLearning  \n",
    "    A # action space (assumes 1:nactions) \n",
    "    y # discount \n",
    "    Q # action value function \n",
    "    gradientQ #gradient of action value function\n",
    "    theta # action value function parameter\n",
    "    alpha # learning rate \n",
    "end \n",
    "\n",
    "#create our action space\n",
    "\n",
    "# our action space is 49 6-vectors\n",
    "numActions = 49\n",
    "pos = zeros(7,3)\n",
    "ori = zeros(7,3)\n",
    "actionSpace = zeros(numActions, 6)\n",
    "\n",
    "pos_delta = 0.00005\n",
    "ori_delta = .0002\n",
    "\n",
    "count = 1;\n",
    "for i = 1:3\n",
    "    pos[count, i] = pos_delta\n",
    "    count+= 1\n",
    "    pos[count, i] = -pos_delta\n",
    "    count+= 1\n",
    "end\n",
    "# reset count\n",
    "count = 1;\n",
    "for i = 1:3\n",
    "    ori[count, i] = ori_delta\n",
    "    count+= 1\n",
    "    ori[count, i] = -ori_delta\n",
    "    count+= 1\n",
    "end\n",
    "\n",
    "# reset count\n",
    "count = 1;\n",
    "for j = 1:length(pos[:,1])\n",
    "    for k = 1:length(pos[:,1])\n",
    "        actionSpace[count, :] = vcat(pos[j, :], ori[k, :])\n",
    "        count += 1\n",
    "    end\n",
    "end\n",
    "\n",
    "# put all actions into a dictionary \n",
    "# map each action vector to an integer for indexing \n",
    "# which set of parameters we are training\n",
    "\n",
    "actionDict = Dict() \n",
    "for l = 1:length(actionSpace[:,1])\n",
    "    actionDict[actionSpace[l, :]] = l\n",
    "end\n"
   ]
  },
  {
   "cell_type": "code",
   "execution_count": 11,
   "id": "2af638d0",
   "metadata": {},
   "outputs": [
    {
     "data": {
      "text/plain": [
       "update! (generic function with 1 method)"
      ]
     },
     "execution_count": 11,
     "metadata": {},
     "output_type": "execute_result"
    }
   ],
   "source": [
    "# create our basis functions for our linear approximation of Q\n",
    "\n",
    "numStateComp = 18\n",
    "\n",
    "function beta(s, a)\n",
    "    idx = actionDict[a]\n",
    "    basis = zeros(1, numActions*numStateComp+1)\n",
    "    basis[numActions*numStateComp+1] = 1\n",
    "    \n",
    "    s = [s[1], s[2], s[3], s[4], s[5], s[6], s[7], s[8], s[9], \n",
    "    s[1]^2, s[2]^2, s[3]^2, s[4]^2, s[5]^2, s[6]^2, s[7]^2, s[8]^2, s[9]^2]\n",
    "    \n",
    "    basis[idx*numStateComp-numStateComp+1:idx*numStateComp] = s\n",
    "    return basis\n",
    "end\n",
    "\n",
    "Q(theta, s, a) = dot(theta, beta(s, a))\n",
    "    \n",
    "gradientQ(theta, s, a) = beta(s, a)\n",
    "\n",
    "scale_gradient(gradient, L2_max) = min(L2_max/norm(gradient), 1)*gradient\n",
    "\n",
    "function update!(model::GradientQLearning, s, a, r, s′) \n",
    "    A, y, Q, theta, alpha = model.A, model.y, model.Q, model.theta, model.alpha \n",
    "    u = maximum(Q(theta, s′, a′) for a′ in eachrow(A))\n",
    "    delta = (r + y*u - Q(theta, s, a))*model.gradientQ(theta, s, a)\n",
    "    theta[:] += (alpha*scale_gradient(delta,1))[:]\n",
    "    return model \n",
    "end"
   ]
  },
  {
   "cell_type": "code",
   "execution_count": 26,
   "id": "1d3babe3",
   "metadata": {},
   "outputs": [],
   "source": [
    "# define our parameters and initialize our thetas\n",
    "\n",
    "theta = zeros(1, numActions*numStateComp+1)\n",
    "theta[numActions*numStateComp+1] = 1\n",
    "sub_theta = [10000, 10000, 10000, 10000, 10000, 10000, 1, 1, 1, \n",
    "    100, 100, 100, 100, 100, 100, .1, .1, .1]\n",
    "for i = 1:numActions\n",
    "    theta[i*numStateComp-numStateComp+1: i*numStateComp] = sub_theta\n",
    "end\n",
    "\n",
    "stateComponents = 9\n",
    "actionComponents = 6\n",
    "forceComponents = 3\n",
    "\n",
    "learning_rate = 0.5\n",
    "discount = 0.95\n",
    "\n",
    "model = GradientQLearning(actionSpace, discount, Q, gradientQ, theta, learning_rate)\n",
    "\n",
    "numOfTraj = 23\n",
    "total_iterations = 2000\n",
    "\n",
    "file_folder = \"./Matlab-data-cleaning/cleaned-deltaPhi-forQLearning/\"\n",
    "\n",
    "t1 = now();\n",
    "\n",
    "for i in 1:total_iterations\n",
    "    for k in 1:numOfTraj\n",
    "        trajectory = file_folder*string(\"output\", k, \".csv\")\n",
    "        data = CSV.read(trajectory, DataFrame)\n",
    "        for row in eachrow(data) \n",
    "                row = collect(row)\n",
    "                s = row[1:stateComponents]\n",
    "                a = row[stateComponents + 1: stateComponents + actionComponents]\n",
    "                r = row[stateComponents + actionComponents + 1]\n",
    "                s′ = row[stateComponents + actionComponents + 2: end]\n",
    "                model = update!(model, s, a, r, s′)\n",
    "        end \n",
    "    end\n",
    "end\n",
    "\n",
    "t2 = now();"
   ]
  },
  {
   "cell_type": "code",
   "execution_count": 27,
   "id": "06bcb670",
   "metadata": {},
   "outputs": [
    {
     "data": {
      "text/plain": [
       "913873 milliseconds"
      ]
     },
     "execution_count": 27,
     "metadata": {},
     "output_type": "execute_result"
    }
   ],
   "source": [
    "t2 - t1"
   ]
  },
  {
   "cell_type": "code",
   "execution_count": 29,
   "id": "91a67a65",
   "metadata": {},
   "outputs": [
    {
     "data": {
      "text/plain": [
       "883-element Vector{Float64}:\n",
       "  9999.172126321686\n",
       " 10002.777323332888\n",
       " 10039.772541216636\n",
       " 10064.922306061944\n",
       "  9985.928131771063\n",
       "  9885.98493631032\n",
       "   288.65795642164\n",
       "    19.591120231370944\n",
       "    46.56576149432341\n",
       "   100.00327627656887\n",
       "   100.01166013813568\n",
       "   102.27744181045452\n",
       "   110.03687303335425\n",
       "     ⋮\n",
       "   158.17004670029954\n",
       "   -19.194367718413844\n",
       "    98.93310232593439\n",
       "   100.6105623598402\n",
       "    91.16149143534732\n",
       "  -172.035866647911\n",
       "    79.11241760068147\n",
       "  1074.2432380250243\n",
       "   934.6248021838741\n",
       "   914.7871982884934\n",
       "   485.1501338349859\n",
       "  2714.3739920731955"
      ]
     },
     "execution_count": 29,
     "metadata": {},
     "output_type": "execute_result"
    }
   ],
   "source": [
    "theta[:]"
   ]
  },
  {
   "cell_type": "code",
   "execution_count": 35,
   "id": "27edde22",
   "metadata": {},
   "outputs": [
    {
     "data": {
      "text/plain": [
       "\"theta_100.csv\""
      ]
     },
     "execution_count": 35,
     "metadata": {},
     "output_type": "execute_result"
    }
   ],
   "source": [
    "# write theta to output text file\n",
    "output_theta = DataFrame(theta, :auto)\n",
    "file_name = string(\"theta_\",total_iterations,\".csv\")\n",
    "CSV.write(file_name, output_theta)"
   ]
  },
  {
   "cell_type": "code",
   "execution_count": 36,
   "id": "8bbf905c",
   "metadata": {},
   "outputs": [
    {
     "data": {
      "text/plain": [
       "49×6 Matrix{Float64}:\n",
       "  5.0e-5  0.0   0.0      0.0002   0.0      0.0\n",
       "  5.0e-5  0.0   0.0     -0.0002   0.0      0.0\n",
       "  5.0e-5  0.0   0.0      0.0      0.0002   0.0\n",
       "  5.0e-5  0.0   0.0      0.0     -0.0002   0.0\n",
       "  5.0e-5  0.0   0.0      0.0      0.0      0.0002\n",
       "  5.0e-5  0.0   0.0      0.0      0.0     -0.0002\n",
       "  5.0e-5  0.0   0.0      0.0      0.0      0.0\n",
       " -5.0e-5  0.0   0.0      0.0002   0.0      0.0\n",
       " -5.0e-5  0.0   0.0     -0.0002   0.0      0.0\n",
       " -5.0e-5  0.0   0.0      0.0      0.0002   0.0\n",
       " -5.0e-5  0.0   0.0      0.0     -0.0002   0.0\n",
       " -5.0e-5  0.0   0.0      0.0      0.0      0.0002\n",
       " -5.0e-5  0.0   0.0      0.0      0.0     -0.0002\n",
       "  ⋮                                        ⋮\n",
       "  0.0     0.0  -5.0e-5   0.0      0.0002   0.0\n",
       "  0.0     0.0  -5.0e-5   0.0     -0.0002   0.0\n",
       "  0.0     0.0  -5.0e-5   0.0      0.0      0.0002\n",
       "  0.0     0.0  -5.0e-5   0.0      0.0     -0.0002\n",
       "  0.0     0.0  -5.0e-5   0.0      0.0      0.0\n",
       "  0.0     0.0   0.0      0.0002   0.0      0.0\n",
       "  0.0     0.0   0.0     -0.0002   0.0      0.0\n",
       "  0.0     0.0   0.0      0.0      0.0002   0.0\n",
       "  0.0     0.0   0.0      0.0     -0.0002   0.0\n",
       "  0.0     0.0   0.0      0.0      0.0      0.0002\n",
       "  0.0     0.0   0.0      0.0      0.0     -0.0002\n",
       "  0.0     0.0   0.0      0.0      0.0      0.0"
      ]
     },
     "execution_count": 36,
     "metadata": {},
     "output_type": "execute_result"
    }
   ],
   "source": [
    "actionSpace"
   ]
  },
  {
   "cell_type": "code",
   "execution_count": null,
   "id": "1f292660",
   "metadata": {},
   "outputs": [],
   "source": []
  }
 ],
 "metadata": {
  "kernelspec": {
   "display_name": "Julia 1.9.4",
   "language": "julia",
   "name": "julia-1.9"
  },
  "language_info": {
   "file_extension": ".jl",
   "mimetype": "application/julia",
   "name": "julia",
   "version": "1.9.4"
  }
 },
 "nbformat": 4,
 "nbformat_minor": 5
}
