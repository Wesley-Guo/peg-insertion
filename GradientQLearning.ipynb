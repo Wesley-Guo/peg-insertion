{
 "cells": [
  {
   "cell_type": "code",
   "execution_count": 4,
   "id": "cdea856c",
   "metadata": {},
   "outputs": [
    {
     "data": {
      "text/plain": [
       "update! (generic function with 1 method)"
      ]
     },
     "execution_count": 4,
     "metadata": {},
     "output_type": "execute_result"
    }
   ],
   "source": [
    "using DataFrames\n",
    "using CSV\n",
    "using Dates\n",
    "using LinearAlgebra\n",
    "\n",
    "mutable struct GradientQLearning  \n",
    "    A # action space (assumes 1:nactions) \n",
    "    y # discount \n",
    "    Q # action value function \n",
    "    gradientQ #gradient of action value function\n",
    "    theta # action value function parameter\n",
    "    alpha # learning rate \n",
    "end \n",
    "\n",
    "beta(s, a) = [s[1], s[2], s[3], s[4], s[5], s[6], s[7], s[8], s[9], \n",
    "    s[1]^2, s[2]^2, s[3]^2, s[4]^2, s[5]^2, s[6]^2, s[7]^2, s[8]^2, s[9]^2, \n",
    "    a[1], a[2], a[3], a[4], a[5], a[6], \n",
    "    a[1]^2, a[2]^2, a[3]^2, a[4]^2, a[5]^2, a[6]^2, 1]\n",
    "\n",
    "Q(theta, s, a) = dot(theta, beta(s, a))\n",
    "    \n",
    "gradientQ(theta, s, a) = beta(s, a)\n",
    "\n",
    "scale_gradient(gradient, L2_max) = min(L2_max/norm(gradient), 1)*gradient\n",
    "\n",
    "function update!(model::GradientQLearning, s, a, r, s′) \n",
    "    A, y, Q, theta, alpha = model.A, model.y, model.Q, model.theta, model.alpha \n",
    "    u = maximum(Q(theta, s′, a′) for a′ in A)\n",
    "    delta = (r + y*u - Q(theta, s, a))*model.gradientQ(theta, s, a)\n",
    "    theta[:] += alpha * scale_gradient(delta, 1)\n",
    "    return model \n",
    "end"
   ]
  },
  {
   "cell_type": "code",
   "execution_count": 24,
   "id": "1d3babe3",
   "metadata": {},
   "outputs": [],
   "source": [
    "learning_rate = 0.5\n",
    "discount = 0.95\n",
    "theta = [10000, 10000, 10000, 10000, 10000, 10000, 1, 1, 1, \n",
    "    100, 100, 100, 100, 100, 100, .1, .1, .1, \n",
    "    10000, 10000, 10000, 10000, 10000, 10000,\n",
    "    100, 100, 100, 100, 100, 100, 1]\n",
    "\n",
    "posDelta = 0.00005\n",
    "oriDelta = .0002\n",
    "\n",
    "stateComponents = 9\n",
    "actionComponents = 6\n",
    "forceComponents = 3\n",
    "\n",
    "A = collect(Iterators.product((0, posDelta, -posDelta),(0, posDelta, -posDelta), (0, posDelta, -posDelta),\n",
    "(0, oriDelta, -oriDelta), (0, oriDelta, -oriDelta), (0, oriDelta, -oriDelta)))\n",
    "\n",
    "model = GradientQLearning(A, discount, Q, gradientQ, theta, learning_rate)\n",
    "\n",
    "numOfTraj = 11\n",
    "total_iterations = 20\n",
    "\n",
    "t1 = now();\n",
    "\n",
    "file_folder = \"Matlab-data-cleaning/cleaned-deltaPhi-forQLearning/\"\n",
    "\n",
    "for i in 1:total_iterations\n",
    "    for k in 1:numOfTraj\n",
    "        trajectory = file_folder*string(\"output\", k, \".csv\")\n",
    "        data = CSV.read(trajectory, DataFrame)\n",
    "        for row in eachrow(data)\n",
    "                s = row[1:stateComponents]\n",
    "                a = row[stateComponents + 1: stateComponents + actionComponents]\n",
    "                r = row[stateComponents + actionComponents + 1]\n",
    "                s′ = row[stateComponents + actionComponents + 2: end]\n",
    "                model = update!(model, s, a, r, s′)\n",
    "        end \n",
    "    end\n",
    "end\n",
    "\n",
    "t2 = now();"
   ]
  },
  {
   "cell_type": "code",
   "execution_count": 20,
   "id": "06bcb670",
   "metadata": {},
   "outputs": [
    {
     "data": {
      "text/plain": [
       "3367101 milliseconds"
      ]
     },
     "execution_count": 20,
     "metadata": {},
     "output_type": "execute_result"
    }
   ],
   "source": [
    "t2 - t1"
   ]
  },
  {
   "cell_type": "code",
   "execution_count": 22,
   "id": "989fadbf",
   "metadata": {},
   "outputs": [
    {
     "data": {
      "text/plain": [
       "31-element Vector{Float64}:\n",
       " 10095.992939685142\n",
       "  9777.915748175838\n",
       " 10014.016747494457\n",
       "  9605.950392009656\n",
       "  8043.789825672846\n",
       "  7530.268269040382\n",
       "   306.85044741432193\n",
       "   273.84167817578754\n",
       "   143.1359486024734\n",
       "    98.2638683260974\n",
       "   113.75577857275131\n",
       "   109.10231691335295\n",
       "    60.41052767973564\n",
       "     ⋮\n",
       "  9999.77667854789\n",
       "  9999.84055764204\n",
       "  9999.308014685068\n",
       "  9999.246348550918\n",
       "  9999.246507715317\n",
       "    99.99999238914134\n",
       "    99.99998937741947\n",
       "    99.99999280881788\n",
       "    99.99987611873097\n",
       "    99.99985315181213\n",
       "    99.99983667463839\n",
       "  -352.24455313580444"
      ]
     },
     "execution_count": 22,
     "metadata": {},
     "output_type": "execute_result"
    }
   ],
   "source": [
    "theta"
   ]
  },
  {
   "cell_type": "code",
   "execution_count": 23,
   "id": "bcfae114",
   "metadata": {},
   "outputs": [
    {
     "data": {
      "text/plain": [
       "\"theta_10_iteration.txt\""
      ]
     },
     "execution_count": 23,
     "metadata": {},
     "output_type": "execute_result"
    }
   ],
   "source": [
    "df_theta = DataFrame(theta = theta)\n",
    "CSV.write(\"theta_10_iteration.txt\", df_theta)"
   ]
  },
  {
   "cell_type": "code",
   "execution_count": null,
   "id": "7ef4fa03",
   "metadata": {},
   "outputs": [],
   "source": []
  }
 ],
 "metadata": {
  "kernelspec": {
   "display_name": "Julia 1.9.4",
   "language": "julia",
   "name": "julia-1.9"
  },
  "language_info": {
   "file_extension": ".jl",
   "mimetype": "application/julia",
   "name": "julia",
   "version": "1.9.4"
  }
 },
 "nbformat": 4,
 "nbformat_minor": 5
}
